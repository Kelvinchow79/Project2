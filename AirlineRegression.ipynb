{
 "cells": [
  {
   "cell_type": "code",
   "execution_count": 1,
   "metadata": {},
   "outputs": [],
   "source": [
    "# Necessary imports\n",
    "import pandas as pd\n",
    "import numpy as np\n",
    "import statsmodels.api as sm\n",
    "import statsmodels.formula.api as smf\n",
    "import patsy\n",
    "\n",
    "import seaborn as sns\n",
    "import matplotlib.pyplot as plt\n",
    "from sklearn.linear_model import LinearRegression\n",
    "from sklearn.linear_model import RidgeCV\n",
    "%matplotlib inline"
   ]
  },
  {
   "cell_type": "code",
   "execution_count": 2,
   "metadata": {},
   "outputs": [
    {
     "data": {
      "text/plain": [
       "(515, 7)"
      ]
     },
     "execution_count": 2,
     "metadata": {},
     "output_type": "execute_result"
    }
   ],
   "source": [
    "data=pd.read_csv('data.csv', index_col='Airline_Name')\n",
    "data.shape"
   ]
  },
  {
   "cell_type": "code",
   "execution_count": 3,
   "metadata": {},
   "outputs": [
    {
     "data": {
      "text/html": [
       "<div>\n",
       "<style scoped>\n",
       "    .dataframe tbody tr th:only-of-type {\n",
       "        vertical-align: middle;\n",
       "    }\n",
       "\n",
       "    .dataframe tbody tr th {\n",
       "        vertical-align: top;\n",
       "    }\n",
       "\n",
       "    .dataframe thead th {\n",
       "        text-align: right;\n",
       "    }\n",
       "</style>\n",
       "<table border=\"1\" class=\"dataframe\">\n",
       "  <thead>\n",
       "    <tr style=\"text-align: right;\">\n",
       "      <th></th>\n",
       "      <th>Food_&amp;_Beverages</th>\n",
       "      <th>Inflight_Entertainment</th>\n",
       "      <th>Seat_Comfort</th>\n",
       "      <th>Staff_Service</th>\n",
       "      <th>Value_for_Money</th>\n",
       "      <th>Review_Count</th>\n",
       "      <th>Rating</th>\n",
       "    </tr>\n",
       "    <tr>\n",
       "      <th>Airline_Name</th>\n",
       "      <th></th>\n",
       "      <th></th>\n",
       "      <th></th>\n",
       "      <th></th>\n",
       "      <th></th>\n",
       "      <th></th>\n",
       "      <th></th>\n",
       "    </tr>\n",
       "  </thead>\n",
       "  <tbody>\n",
       "    <tr>\n",
       "      <th>AB Aviation</th>\n",
       "      <td>2</td>\n",
       "      <td>0</td>\n",
       "      <td>3</td>\n",
       "      <td>3</td>\n",
       "      <td>2</td>\n",
       "      <td>3</td>\n",
       "      <td>4</td>\n",
       "    </tr>\n",
       "    <tr>\n",
       "      <th>Adria Airways</th>\n",
       "      <td>3</td>\n",
       "      <td>2</td>\n",
       "      <td>3</td>\n",
       "      <td>3</td>\n",
       "      <td>3</td>\n",
       "      <td>91</td>\n",
       "      <td>6</td>\n",
       "    </tr>\n",
       "    <tr>\n",
       "      <th>Aegean Airlines</th>\n",
       "      <td>4</td>\n",
       "      <td>2</td>\n",
       "      <td>4</td>\n",
       "      <td>4</td>\n",
       "      <td>4</td>\n",
       "      <td>605</td>\n",
       "      <td>8</td>\n",
       "    </tr>\n",
       "    <tr>\n",
       "      <th>Aer Lingus</th>\n",
       "      <td>3</td>\n",
       "      <td>2</td>\n",
       "      <td>3</td>\n",
       "      <td>4</td>\n",
       "      <td>3</td>\n",
       "      <td>789</td>\n",
       "      <td>6</td>\n",
       "    </tr>\n",
       "    <tr>\n",
       "      <th>Aero VIP</th>\n",
       "      <td>0</td>\n",
       "      <td>0</td>\n",
       "      <td>4</td>\n",
       "      <td>4</td>\n",
       "      <td>4</td>\n",
       "      <td>3</td>\n",
       "      <td>9</td>\n",
       "    </tr>\n",
       "  </tbody>\n",
       "</table>\n",
       "</div>"
      ],
      "text/plain": [
       "                 Food_&_Beverages  Inflight_Entertainment  Seat_Comfort  \\\n",
       "Airline_Name                                                              \n",
       "AB Aviation                     2                       0             3   \n",
       "Adria Airways                   3                       2             3   \n",
       "Aegean Airlines                 4                       2             4   \n",
       "Aer Lingus                      3                       2             3   \n",
       "Aero VIP                        0                       0             4   \n",
       "\n",
       "                 Staff_Service  Value_for_Money  Review_Count  Rating  \n",
       "Airline_Name                                                           \n",
       "AB Aviation                  3                2             3       4  \n",
       "Adria Airways                3                3            91       6  \n",
       "Aegean Airlines              4                4           605       8  \n",
       "Aer Lingus                   4                3           789       6  \n",
       "Aero VIP                     4                4             3       9  "
      ]
     },
     "execution_count": 3,
     "metadata": {},
     "output_type": "execute_result"
    }
   ],
   "source": [
    "data.head()"
   ]
  },
  {
   "cell_type": "code",
   "execution_count": 4,
   "metadata": {},
   "outputs": [
    {
     "data": {
      "text/html": [
       "<div>\n",
       "<style scoped>\n",
       "    .dataframe tbody tr th:only-of-type {\n",
       "        vertical-align: middle;\n",
       "    }\n",
       "\n",
       "    .dataframe tbody tr th {\n",
       "        vertical-align: top;\n",
       "    }\n",
       "\n",
       "    .dataframe thead th {\n",
       "        text-align: right;\n",
       "    }\n",
       "</style>\n",
       "<table border=\"1\" class=\"dataframe\">\n",
       "  <thead>\n",
       "    <tr style=\"text-align: right;\">\n",
       "      <th></th>\n",
       "      <th>Food_&amp;_Beverages</th>\n",
       "      <th>Inflight_Entertainment</th>\n",
       "      <th>Seat_Comfort</th>\n",
       "      <th>Staff_Service</th>\n",
       "      <th>Value_for_Money</th>\n",
       "      <th>Review_Count</th>\n",
       "      <th>Rating</th>\n",
       "    </tr>\n",
       "    <tr>\n",
       "      <th>Airline_Name</th>\n",
       "      <th></th>\n",
       "      <th></th>\n",
       "      <th></th>\n",
       "      <th></th>\n",
       "      <th></th>\n",
       "      <th></th>\n",
       "      <th></th>\n",
       "    </tr>\n",
       "  </thead>\n",
       "  <tbody>\n",
       "    <tr>\n",
       "      <th>XL Airways France</th>\n",
       "      <td>3</td>\n",
       "      <td>2</td>\n",
       "      <td>2</td>\n",
       "      <td>3</td>\n",
       "      <td>3</td>\n",
       "      <td>78</td>\n",
       "      <td>5</td>\n",
       "    </tr>\n",
       "    <tr>\n",
       "      <th>Yakutia Airlines</th>\n",
       "      <td>3</td>\n",
       "      <td>0</td>\n",
       "      <td>3</td>\n",
       "      <td>3</td>\n",
       "      <td>4</td>\n",
       "      <td>4</td>\n",
       "      <td>6</td>\n",
       "    </tr>\n",
       "    <tr>\n",
       "      <th>Yangon Airways</th>\n",
       "      <td>4</td>\n",
       "      <td>0</td>\n",
       "      <td>5</td>\n",
       "      <td>4</td>\n",
       "      <td>4</td>\n",
       "      <td>4</td>\n",
       "      <td>9</td>\n",
       "    </tr>\n",
       "    <tr>\n",
       "      <th>Yemenia</th>\n",
       "      <td>0</td>\n",
       "      <td>0</td>\n",
       "      <td>0</td>\n",
       "      <td>0</td>\n",
       "      <td>4</td>\n",
       "      <td>24</td>\n",
       "      <td>4</td>\n",
       "    </tr>\n",
       "    <tr>\n",
       "      <th>Yeti Airlines</th>\n",
       "      <td>3</td>\n",
       "      <td>0</td>\n",
       "      <td>3</td>\n",
       "      <td>3</td>\n",
       "      <td>4</td>\n",
       "      <td>3</td>\n",
       "      <td>6</td>\n",
       "    </tr>\n",
       "  </tbody>\n",
       "</table>\n",
       "</div>"
      ],
      "text/plain": [
       "                   Food_&_Beverages  Inflight_Entertainment  Seat_Comfort  \\\n",
       "Airline_Name                                                                \n",
       "XL Airways France                 3                       2             2   \n",
       "Yakutia Airlines                  3                       0             3   \n",
       "Yangon Airways                    4                       0             5   \n",
       "Yemenia                           0                       0             0   \n",
       "Yeti Airlines                     3                       0             3   \n",
       "\n",
       "                   Staff_Service  Value_for_Money  Review_Count  Rating  \n",
       "Airline_Name                                                             \n",
       "XL Airways France              3                3            78       5  \n",
       "Yakutia Airlines               3                4             4       6  \n",
       "Yangon Airways                 4                4             4       9  \n",
       "Yemenia                        0                4            24       4  \n",
       "Yeti Airlines                  3                4             3       6  "
      ]
     },
     "execution_count": 4,
     "metadata": {},
     "output_type": "execute_result"
    }
   ],
   "source": [
    "data.tail()"
   ]
  },
  {
   "cell_type": "code",
   "execution_count": 5,
   "metadata": {},
   "outputs": [
    {
     "data": {
      "text/html": [
       "<div>\n",
       "<style scoped>\n",
       "    .dataframe tbody tr th:only-of-type {\n",
       "        vertical-align: middle;\n",
       "    }\n",
       "\n",
       "    .dataframe tbody tr th {\n",
       "        vertical-align: top;\n",
       "    }\n",
       "\n",
       "    .dataframe thead th {\n",
       "        text-align: right;\n",
       "    }\n",
       "</style>\n",
       "<table border=\"1\" class=\"dataframe\">\n",
       "  <thead>\n",
       "    <tr style=\"text-align: right;\">\n",
       "      <th></th>\n",
       "      <th>Food_&amp;_Beverages</th>\n",
       "      <th>Inflight_Entertainment</th>\n",
       "      <th>Seat_Comfort</th>\n",
       "      <th>Staff_Service</th>\n",
       "      <th>Value_for_Money</th>\n",
       "      <th>Review_Count</th>\n",
       "      <th>Rating</th>\n",
       "    </tr>\n",
       "  </thead>\n",
       "  <tbody>\n",
       "    <tr>\n",
       "      <th>Food_&amp;_Beverages</th>\n",
       "      <td>1.000000</td>\n",
       "      <td>0.422183</td>\n",
       "      <td>0.642930</td>\n",
       "      <td>0.684761</td>\n",
       "      <td>0.463847</td>\n",
       "      <td>0.080438</td>\n",
       "      <td>0.517388</td>\n",
       "    </tr>\n",
       "    <tr>\n",
       "      <th>Inflight_Entertainment</th>\n",
       "      <td>0.422183</td>\n",
       "      <td>1.000000</td>\n",
       "      <td>0.300042</td>\n",
       "      <td>0.299429</td>\n",
       "      <td>0.146917</td>\n",
       "      <td>0.327153</td>\n",
       "      <td>0.146295</td>\n",
       "    </tr>\n",
       "    <tr>\n",
       "      <th>Seat_Comfort</th>\n",
       "      <td>0.642930</td>\n",
       "      <td>0.300042</td>\n",
       "      <td>1.000000</td>\n",
       "      <td>0.851193</td>\n",
       "      <td>0.618845</td>\n",
       "      <td>0.020238</td>\n",
       "      <td>0.625659</td>\n",
       "    </tr>\n",
       "    <tr>\n",
       "      <th>Staff_Service</th>\n",
       "      <td>0.684761</td>\n",
       "      <td>0.299429</td>\n",
       "      <td>0.851193</td>\n",
       "      <td>1.000000</td>\n",
       "      <td>0.597290</td>\n",
       "      <td>0.017322</td>\n",
       "      <td>0.613897</td>\n",
       "    </tr>\n",
       "    <tr>\n",
       "      <th>Value_for_Money</th>\n",
       "      <td>0.463847</td>\n",
       "      <td>0.146917</td>\n",
       "      <td>0.618845</td>\n",
       "      <td>0.597290</td>\n",
       "      <td>1.000000</td>\n",
       "      <td>-0.012835</td>\n",
       "      <td>0.805385</td>\n",
       "    </tr>\n",
       "    <tr>\n",
       "      <th>Review_Count</th>\n",
       "      <td>0.080438</td>\n",
       "      <td>0.327153</td>\n",
       "      <td>0.020238</td>\n",
       "      <td>0.017322</td>\n",
       "      <td>-0.012835</td>\n",
       "      <td>1.000000</td>\n",
       "      <td>-0.031188</td>\n",
       "    </tr>\n",
       "    <tr>\n",
       "      <th>Rating</th>\n",
       "      <td>0.517388</td>\n",
       "      <td>0.146295</td>\n",
       "      <td>0.625659</td>\n",
       "      <td>0.613897</td>\n",
       "      <td>0.805385</td>\n",
       "      <td>-0.031188</td>\n",
       "      <td>1.000000</td>\n",
       "    </tr>\n",
       "  </tbody>\n",
       "</table>\n",
       "</div>"
      ],
      "text/plain": [
       "                        Food_&_Beverages  Inflight_Entertainment  \\\n",
       "Food_&_Beverages                1.000000                0.422183   \n",
       "Inflight_Entertainment          0.422183                1.000000   \n",
       "Seat_Comfort                    0.642930                0.300042   \n",
       "Staff_Service                   0.684761                0.299429   \n",
       "Value_for_Money                 0.463847                0.146917   \n",
       "Review_Count                    0.080438                0.327153   \n",
       "Rating                          0.517388                0.146295   \n",
       "\n",
       "                        Seat_Comfort  Staff_Service  Value_for_Money  \\\n",
       "Food_&_Beverages            0.642930       0.684761         0.463847   \n",
       "Inflight_Entertainment      0.300042       0.299429         0.146917   \n",
       "Seat_Comfort                1.000000       0.851193         0.618845   \n",
       "Staff_Service               0.851193       1.000000         0.597290   \n",
       "Value_for_Money             0.618845       0.597290         1.000000   \n",
       "Review_Count                0.020238       0.017322        -0.012835   \n",
       "Rating                      0.625659       0.613897         0.805385   \n",
       "\n",
       "                        Review_Count    Rating  \n",
       "Food_&_Beverages            0.080438  0.517388  \n",
       "Inflight_Entertainment      0.327153  0.146295  \n",
       "Seat_Comfort                0.020238  0.625659  \n",
       "Staff_Service               0.017322  0.613897  \n",
       "Value_for_Money            -0.012835  0.805385  \n",
       "Review_Count                1.000000 -0.031188  \n",
       "Rating                     -0.031188  1.000000  "
      ]
     },
     "execution_count": 5,
     "metadata": {},
     "output_type": "execute_result"
    }
   ],
   "source": [
    "data.corr()"
   ]
  },
  {
   "cell_type": "code",
   "execution_count": 6,
   "metadata": {},
   "outputs": [
    {
     "data": {
      "text/plain": [
       "<matplotlib.axes._subplots.AxesSubplot at 0x1ccfc36c788>"
      ]
     },
     "execution_count": 6,
     "metadata": {},
     "output_type": "execute_result"
    },
    {
     "data": {
      "image/png": "[encoded data removed]",
      "text/plain": [
       "<Figure size 432x288 with 2 Axes>"
      ]
     },
     "metadata": {
      "needs_background": "light"
     },
     "output_type": "display_data"
    }
   ],
   "source": [
    "sns.heatmap(data.corr(), cmap='seismic', annot=True, vmin=-1, vmax=1)"
   ]
  },
  {
   "cell_type": "code",
   "execution_count": 7,
   "metadata": {},
   "outputs": [
    {
     "data": {
      "text/plain": [
       "<seaborn.axisgrid.PairGrid at 0x1cc8002a8c8>"
      ]
     },
     "execution_count": 7,
     "metadata": {},
     "output_type": "execute_result"
    },
    {
     "data": {
      "image/png": "[encoded data removed]",
      "text/plain": [
       "<Figure size 907.2x604.8 with 56 Axes>"
      ]
     },
     "metadata": {
      "needs_background": "light"
     },
     "output_type": "display_data"
    }
   ],
   "source": [
    "sns.pairplot(data, height=1.2, aspect=1.5)"
   ]
  },
  {
   "cell_type": "code",
   "execution_count": 8,
   "metadata": {},
   "outputs": [
    {
     "data": {
      "text/plain": [
       "Index(['Food_&_Beverages', 'Inflight_Entertainment', 'Seat_Comfort',\n",
       "       'Staff_Service', 'Value_for_Money', 'Review_Count', 'Rating'],\n",
       "      dtype='object')"
      ]
     },
     "execution_count": 8,
     "metadata": {},
     "output_type": "execute_result"
    }
   ],
   "source": [
    "data.columns"
   ]
  },
  {
   "cell_type": "code",
   "execution_count": 9,
   "metadata": {},
   "outputs": [],
   "source": [
    "data.rename(inplace=True,columns={\"Food_&_Beverages\": \"Food_N_Beverages\"})"
   ]
  },
  {
   "cell_type": "code",
   "execution_count": 10,
   "metadata": {},
   "outputs": [
    {
     "data": {
      "text/html": [
       "<table class=\"simpletable\">\n",
       "<caption>OLS Regression Results</caption>\n",
       "<tr>\n",
       "  <th>Dep. Variable:</th>         <td>Rating</td>      <th>  R-squared:         </th> <td>   0.687</td> \n",
       "</tr>\n",
       "<tr>\n",
       "  <th>Model:</th>                   <td>OLS</td>       <th>  Adj. R-squared:    </th> <td>   0.684</td> \n",
       "</tr>\n",
       "<tr>\n",
       "  <th>Method:</th>             <td>Least Squares</td>  <th>  F-statistic:       </th> <td>   186.2</td> \n",
       "</tr>\n",
       "<tr>\n",
       "  <th>Date:</th>             <td>Sun, 20 Sep 2020</td> <th>  Prob (F-statistic):</th> <td>7.86e-125</td>\n",
       "</tr>\n",
       "<tr>\n",
       "  <th>Time:</th>                 <td>10:32:19</td>     <th>  Log-Likelihood:    </th> <td> -778.40</td> \n",
       "</tr>\n",
       "<tr>\n",
       "  <th>No. Observations:</th>      <td>   515</td>      <th>  AIC:               </th> <td>   1571.</td> \n",
       "</tr>\n",
       "<tr>\n",
       "  <th>Df Residuals:</th>          <td>   508</td>      <th>  BIC:               </th> <td>   1601.</td> \n",
       "</tr>\n",
       "<tr>\n",
       "  <th>Df Model:</th>              <td>     6</td>      <th>                     </th>     <td> </td>    \n",
       "</tr>\n",
       "<tr>\n",
       "  <th>Covariance Type:</th>      <td>nonrobust</td>    <th>                     </th>     <td> </td>    \n",
       "</tr>\n",
       "</table>\n",
       "<table class=\"simpletable\">\n",
       "<tr>\n",
       "             <td></td>               <th>coef</th>     <th>std err</th>      <th>t</th>      <th>P>|t|</th>  <th>[0.025</th>    <th>0.975]</th>  \n",
       "</tr>\n",
       "<tr>\n",
       "  <th>Intercept</th>              <td>   -0.0702</td> <td>    0.169</td> <td>   -0.416</td> <td> 0.678</td> <td>   -0.402</td> <td>    0.261</td>\n",
       "</tr>\n",
       "<tr>\n",
       "  <th>Food_N_Beverages</th>       <td>    0.1987</td> <td>    0.057</td> <td>    3.477</td> <td> 0.001</td> <td>    0.086</td> <td>    0.311</td>\n",
       "</tr>\n",
       "<tr>\n",
       "  <th>Inflight_Entertainment</th> <td>   -0.0746</td> <td>    0.048</td> <td>   -1.567</td> <td> 0.118</td> <td>   -0.168</td> <td>    0.019</td>\n",
       "</tr>\n",
       "<tr>\n",
       "  <th>Seat_Comfort</th>           <td>    0.1768</td> <td>    0.094</td> <td>    1.881</td> <td> 0.061</td> <td>   -0.008</td> <td>    0.361</td>\n",
       "</tr>\n",
       "<tr>\n",
       "  <th>Staff_Service</th>          <td>    0.1262</td> <td>    0.088</td> <td>    1.428</td> <td> 0.154</td> <td>   -0.047</td> <td>    0.300</td>\n",
       "</tr>\n",
       "<tr>\n",
       "  <th>Value_for_Money</th>        <td>    1.3244</td> <td>    0.065</td> <td>   20.238</td> <td> 0.000</td> <td>    1.196</td> <td>    1.453</td>\n",
       "</tr>\n",
       "<tr>\n",
       "  <th>Review_Count</th>           <td>-9.247e-05</td> <td>    0.000</td> <td>   -0.804</td> <td> 0.422</td> <td>   -0.000</td> <td>    0.000</td>\n",
       "</tr>\n",
       "</table>\n",
       "<table class=\"simpletable\">\n",
       "<tr>\n",
       "  <th>Omnibus:</th>       <td>52.141</td> <th>  Durbin-Watson:     </th> <td>   1.913</td>\n",
       "</tr>\n",
       "<tr>\n",
       "  <th>Prob(Omnibus):</th> <td> 0.000</td> <th>  Jarque-Bera (JB):  </th> <td> 196.275</td>\n",
       "</tr>\n",
       "<tr>\n",
       "  <th>Skew:</th>          <td> 0.374</td> <th>  Prob(JB):          </th> <td>2.40e-43</td>\n",
       "</tr>\n",
       "<tr>\n",
       "  <th>Kurtosis:</th>      <td> 5.930</td> <th>  Cond. No.          </th> <td>1.76e+03</td>\n",
       "</tr>\n",
       "</table><br/><br/>Warnings:<br/>[1] Standard Errors assume that the covariance matrix of the errors is correctly specified.<br/>[2] The condition number is large, 1.76e+03. This might indicate that there are<br/>strong multicollinearity or other numerical problems."
      ],
      "text/plain": [
       "<class 'statsmodels.iolib.summary.Summary'>\n",
       "\"\"\"\n",
       "                            OLS Regression Results                            \n",
       "==============================================================================\n",
       "Dep. Variable:                 Rating   R-squared:                       0.687\n",
       "Model:                            OLS   Adj. R-squared:                  0.684\n",
       "Method:                 Least Squares   F-statistic:                     186.2\n",
       "Date:                Sun, 20 Sep 2020   Prob (F-statistic):          7.86e-125\n",
       "Time:                        10:32:19   Log-Likelihood:                -778.40\n",
       "No. Observations:                 515   AIC:                             1571.\n",
       "Df Residuals:                     508   BIC:                             1601.\n",
       "Df Model:                           6                                         \n",
       "Covariance Type:            nonrobust                                         \n",
       "==========================================================================================\n",
       "                             coef    std err          t      P>|t|      [0.025      0.975]\n",
       "------------------------------------------------------------------------------------------\n",
       "Intercept                 -0.0702      0.169     -0.416      0.678      -0.402       0.261\n",
       "Food_N_Beverages           0.1987      0.057      3.477      0.001       0.086       0.311\n",
       "Inflight_Entertainment    -0.0746      0.048     -1.567      0.118      -0.168       0.019\n",
       "Seat_Comfort               0.1768      0.094      1.881      0.061      -0.008       0.361\n",
       "Staff_Service              0.1262      0.088      1.428      0.154      -0.047       0.300\n",
       "Value_for_Money            1.3244      0.065     20.238      0.000       1.196       1.453\n",
       "Review_Count           -9.247e-05      0.000     -0.804      0.422      -0.000       0.000\n",
       "==============================================================================\n",
       "Omnibus:                       52.141   Durbin-Watson:                   1.913\n",
       "Prob(Omnibus):                  0.000   Jarque-Bera (JB):              196.275\n",
       "Skew:                           0.374   Prob(JB):                     2.40e-43\n",
       "Kurtosis:                       5.930   Cond. No.                     1.76e+03\n",
       "==============================================================================\n",
       "\n",
       "Warnings:\n",
       "[1] Standard Errors assume that the covariance matrix of the errors is correctly specified.\n",
       "[2] The condition number is large, 1.76e+03. This might indicate that there are\n",
       "strong multicollinearity or other numerical problems.\n",
       "\"\"\""
      ]
     },
     "execution_count": 10,
     "metadata": {},
     "output_type": "execute_result"
    }
   ],
   "source": [
    "y,X=patsy.dmatrices('Rating ~ Food_N_Beverages + Inflight_Entertainment + Seat_Comfort + Staff_Service + Value_for_Money + Review_Count', data=data, return_type=\"dataframe\")\n",
    "#X=sm.add_constant(data.drop('Rating',axis=1))\n",
    "y=data['Rating']\n",
    "model=sm.OLS(y, X)\n",
    "fit=model.fit()\n",
    "fit.summary()"
   ]
  },
  {
   "cell_type": "code",
   "execution_count": 11,
   "metadata": {},
   "outputs": [
    {
     "data": {
      "text/html": [
       "<table class=\"simpletable\">\n",
       "<caption>OLS Regression Results</caption>\n",
       "<tr>\n",
       "  <th>Dep. Variable:</th>         <td>Rating</td>      <th>  R-squared:         </th> <td>   0.686</td> \n",
       "</tr>\n",
       "<tr>\n",
       "  <th>Model:</th>                   <td>OLS</td>       <th>  Adj. R-squared:    </th> <td>   0.683</td> \n",
       "</tr>\n",
       "<tr>\n",
       "  <th>Method:</th>             <td>Least Squares</td>  <th>  F-statistic:       </th> <td>   278.3</td> \n",
       "</tr>\n",
       "<tr>\n",
       "  <th>Date:</th>             <td>Sun, 20 Sep 2020</td> <th>  Prob (F-statistic):</th> <td>1.10e-126</td>\n",
       "</tr>\n",
       "<tr>\n",
       "  <th>Time:</th>                 <td>10:32:19</td>     <th>  Log-Likelihood:    </th> <td> -779.79</td> \n",
       "</tr>\n",
       "<tr>\n",
       "  <th>No. Observations:</th>      <td>   515</td>      <th>  AIC:               </th> <td>   1570.</td> \n",
       "</tr>\n",
       "<tr>\n",
       "  <th>Df Residuals:</th>          <td>   510</td>      <th>  BIC:               </th> <td>   1591.</td> \n",
       "</tr>\n",
       "<tr>\n",
       "  <th>Df Model:</th>              <td>     4</td>      <th>                     </th>     <td> </td>    \n",
       "</tr>\n",
       "<tr>\n",
       "  <th>Covariance Type:</th>      <td>nonrobust</td>    <th>                     </th>     <td> </td>    \n",
       "</tr>\n",
       "</table>\n",
       "<table class=\"simpletable\">\n",
       "<tr>\n",
       "             <td></td>               <th>coef</th>     <th>std err</th>      <th>t</th>      <th>P>|t|</th>  <th>[0.025</th>    <th>0.975]</th>  \n",
       "</tr>\n",
       "<tr>\n",
       "  <th>Intercept</th>              <td>   -0.0519</td> <td>    0.167</td> <td>   -0.312</td> <td> 0.755</td> <td>   -0.379</td> <td>    0.276</td>\n",
       "</tr>\n",
       "<tr>\n",
       "  <th>Food_N_Beverages</th>       <td>    0.2254</td> <td>    0.054</td> <td>    4.154</td> <td> 0.000</td> <td>    0.119</td> <td>    0.332</td>\n",
       "</tr>\n",
       "<tr>\n",
       "  <th>Inflight_Entertainment</th> <td>   -0.0876</td> <td>    0.045</td> <td>   -1.944</td> <td> 0.052</td> <td>   -0.176</td> <td>    0.001</td>\n",
       "</tr>\n",
       "<tr>\n",
       "  <th>Seat_Comfort</th>           <td>    0.2690</td> <td>    0.070</td> <td>    3.846</td> <td> 0.000</td> <td>    0.132</td> <td>    0.406</td>\n",
       "</tr>\n",
       "<tr>\n",
       "  <th>Value_for_Money</th>        <td>    1.3384</td> <td>    0.065</td> <td>   20.646</td> <td> 0.000</td> <td>    1.211</td> <td>    1.466</td>\n",
       "</tr>\n",
       "</table>\n",
       "<table class=\"simpletable\">\n",
       "<tr>\n",
       "  <th>Omnibus:</th>       <td>50.577</td> <th>  Durbin-Watson:     </th> <td>   1.907</td>\n",
       "</tr>\n",
       "<tr>\n",
       "  <th>Prob(Omnibus):</th> <td> 0.000</td> <th>  Jarque-Bera (JB):  </th> <td> 166.523</td>\n",
       "</tr>\n",
       "<tr>\n",
       "  <th>Skew:</th>          <td> 0.408</td> <th>  Prob(JB):          </th> <td>6.92e-37</td>\n",
       "</tr>\n",
       "<tr>\n",
       "  <th>Kurtosis:</th>      <td> 5.663</td> <th>  Cond. No.          </th> <td>    18.8</td>\n",
       "</tr>\n",
       "</table><br/><br/>Warnings:<br/>[1] Standard Errors assume that the covariance matrix of the errors is correctly specified."
      ],
      "text/plain": [
       "<class 'statsmodels.iolib.summary.Summary'>\n",
       "\"\"\"\n",
       "                            OLS Regression Results                            \n",
       "==============================================================================\n",
       "Dep. Variable:                 Rating   R-squared:                       0.686\n",
       "Model:                            OLS   Adj. R-squared:                  0.683\n",
       "Method:                 Least Squares   F-statistic:                     278.3\n",
       "Date:                Sun, 20 Sep 2020   Prob (F-statistic):          1.10e-126\n",
       "Time:                        10:32:19   Log-Likelihood:                -779.79\n",
       "No. Observations:                 515   AIC:                             1570.\n",
       "Df Residuals:                     510   BIC:                             1591.\n",
       "Df Model:                           4                                         \n",
       "Covariance Type:            nonrobust                                         \n",
       "==========================================================================================\n",
       "                             coef    std err          t      P>|t|      [0.025      0.975]\n",
       "------------------------------------------------------------------------------------------\n",
       "Intercept                 -0.0519      0.167     -0.312      0.755      -0.379       0.276\n",
       "Food_N_Beverages           0.2254      0.054      4.154      0.000       0.119       0.332\n",
       "Inflight_Entertainment    -0.0876      0.045     -1.944      0.052      -0.176       0.001\n",
       "Seat_Comfort               0.2690      0.070      3.846      0.000       0.132       0.406\n",
       "Value_for_Money            1.3384      0.065     20.646      0.000       1.211       1.466\n",
       "==============================================================================\n",
       "Omnibus:                       50.577   Durbin-Watson:                   1.907\n",
       "Prob(Omnibus):                  0.000   Jarque-Bera (JB):              166.523\n",
       "Skew:                           0.408   Prob(JB):                     6.92e-37\n",
       "Kurtosis:                       5.663   Cond. No.                         18.8\n",
       "==============================================================================\n",
       "\n",
       "Warnings:\n",
       "[1] Standard Errors assume that the covariance matrix of the errors is correctly specified.\n",
       "\"\"\""
      ]
     },
     "execution_count": 11,
     "metadata": {},
     "output_type": "execute_result"
    }
   ],
   "source": [
    "y,X1=patsy.dmatrices('Rating ~ Food_N_Beverages + Inflight_Entertainment + Seat_Comfort + Value_for_Money', data=data, return_type=\"dataframe\")\n",
    "#X1=sm.add_constant(data.drop(['Rating','Staff_Service','Review_Count'],axis=1))\n",
    "y=data['Rating']\n",
    "model=sm.OLS(y, X1)\n",
    "fit=model.fit()\n",
    "fit.summary()"
   ]
  },
  {
   "cell_type": "code",
   "execution_count": 12,
   "metadata": {},
   "outputs": [
    {
     "data": {
      "text/html": [
       "<table class=\"simpletable\">\n",
       "<caption>OLS Regression Results</caption>\n",
       "<tr>\n",
       "  <th>Dep. Variable:</th>         <td>Rating</td>      <th>  R-squared:         </th> <td>   0.687</td> \n",
       "</tr>\n",
       "<tr>\n",
       "  <th>Model:</th>                   <td>OLS</td>       <th>  Adj. R-squared:    </th> <td>   0.684</td> \n",
       "</tr>\n",
       "<tr>\n",
       "  <th>Method:</th>             <td>Least Squares</td>  <th>  F-statistic:       </th> <td>   223.5</td> \n",
       "</tr>\n",
       "<tr>\n",
       "  <th>Date:</th>             <td>Sun, 20 Sep 2020</td> <th>  Prob (F-statistic):</th> <td>6.90e-126</td>\n",
       "</tr>\n",
       "<tr>\n",
       "  <th>Time:</th>                 <td>10:32:19</td>     <th>  Log-Likelihood:    </th> <td> -778.73</td> \n",
       "</tr>\n",
       "<tr>\n",
       "  <th>No. Observations:</th>      <td>   515</td>      <th>  AIC:               </th> <td>   1569.</td> \n",
       "</tr>\n",
       "<tr>\n",
       "  <th>Df Residuals:</th>          <td>   509</td>      <th>  BIC:               </th> <td>   1595.</td> \n",
       "</tr>\n",
       "<tr>\n",
       "  <th>Df Model:</th>              <td>     5</td>      <th>                     </th>     <td> </td>    \n",
       "</tr>\n",
       "<tr>\n",
       "  <th>Covariance Type:</th>      <td>nonrobust</td>    <th>                     </th>     <td> </td>    \n",
       "</tr>\n",
       "</table>\n",
       "<table class=\"simpletable\">\n",
       "<tr>\n",
       "             <td></td>               <th>coef</th>     <th>std err</th>      <th>t</th>      <th>P>|t|</th>  <th>[0.025</th>    <th>0.975]</th>  \n",
       "</tr>\n",
       "<tr>\n",
       "  <th>Intercept</th>              <td>   -0.0829</td> <td>    0.168</td> <td>   -0.494</td> <td> 0.622</td> <td>   -0.413</td> <td>    0.247</td>\n",
       "</tr>\n",
       "<tr>\n",
       "  <th>Food_N_Beverages</th>       <td>    0.1992</td> <td>    0.057</td> <td>    3.485</td> <td> 0.001</td> <td>    0.087</td> <td>    0.311</td>\n",
       "</tr>\n",
       "<tr>\n",
       "  <th>Inflight_Entertainment</th> <td>   -0.0871</td> <td>    0.045</td> <td>   -1.933</td> <td> 0.054</td> <td>   -0.176</td> <td>    0.001</td>\n",
       "</tr>\n",
       "<tr>\n",
       "  <th>Seat_Comfort</th>           <td>    0.1780</td> <td>    0.094</td> <td>    1.895</td> <td> 0.059</td> <td>   -0.006</td> <td>    0.363</td>\n",
       "</tr>\n",
       "<tr>\n",
       "  <th>Staff_Service</th>          <td>    0.1279</td> <td>    0.088</td> <td>    1.449</td> <td> 0.148</td> <td>   -0.046</td> <td>    0.301</td>\n",
       "</tr>\n",
       "<tr>\n",
       "  <th>Value_for_Money</th>        <td>    1.3249</td> <td>    0.065</td> <td>   20.254</td> <td> 0.000</td> <td>    1.196</td> <td>    1.453</td>\n",
       "</tr>\n",
       "</table>\n",
       "<table class=\"simpletable\">\n",
       "<tr>\n",
       "  <th>Omnibus:</th>       <td>53.388</td> <th>  Durbin-Watson:     </th> <td>   1.911</td>\n",
       "</tr>\n",
       "<tr>\n",
       "  <th>Prob(Omnibus):</th> <td> 0.000</td> <th>  Jarque-Bera (JB):  </th> <td> 199.419</td>\n",
       "</tr>\n",
       "<tr>\n",
       "  <th>Skew:</th>          <td> 0.392</td> <th>  Prob(JB):          </th> <td>4.98e-44</td>\n",
       "</tr>\n",
       "<tr>\n",
       "  <th>Kurtosis:</th>      <td> 5.946</td> <th>  Cond. No.          </th> <td>    22.1</td>\n",
       "</tr>\n",
       "</table><br/><br/>Warnings:<br/>[1] Standard Errors assume that the covariance matrix of the errors is correctly specified."
      ],
      "text/plain": [
       "<class 'statsmodels.iolib.summary.Summary'>\n",
       "\"\"\"\n",
       "                            OLS Regression Results                            \n",
       "==============================================================================\n",
       "Dep. Variable:                 Rating   R-squared:                       0.687\n",
       "Model:                            OLS   Adj. R-squared:                  0.684\n",
       "Method:                 Least Squares   F-statistic:                     223.5\n",
       "Date:                Sun, 20 Sep 2020   Prob (F-statistic):          6.90e-126\n",
       "Time:                        10:32:19   Log-Likelihood:                -778.73\n",
       "No. Observations:                 515   AIC:                             1569.\n",
       "Df Residuals:                     509   BIC:                             1595.\n",
       "Df Model:                           5                                         \n",
       "Covariance Type:            nonrobust                                         \n",
       "==========================================================================================\n",
       "                             coef    std err          t      P>|t|      [0.025      0.975]\n",
       "------------------------------------------------------------------------------------------\n",
       "Intercept                 -0.0829      0.168     -0.494      0.622      -0.413       0.247\n",
       "Food_N_Beverages           0.1992      0.057      3.485      0.001       0.087       0.311\n",
       "Inflight_Entertainment    -0.0871      0.045     -1.933      0.054      -0.176       0.001\n",
       "Seat_Comfort               0.1780      0.094      1.895      0.059      -0.006       0.363\n",
       "Staff_Service              0.1279      0.088      1.449      0.148      -0.046       0.301\n",
       "Value_for_Money            1.3249      0.065     20.254      0.000       1.196       1.453\n",
       "==============================================================================\n",
       "Omnibus:                       53.388   Durbin-Watson:                   1.911\n",
       "Prob(Omnibus):                  0.000   Jarque-Bera (JB):              199.419\n",
       "Skew:                           0.392   Prob(JB):                     4.98e-44\n",
       "Kurtosis:                       5.946   Cond. No.                         22.1\n",
       "==============================================================================\n",
       "\n",
       "Warnings:\n",
       "[1] Standard Errors assume that the covariance matrix of the errors is correctly specified.\n",
       "\"\"\""
      ]
     },
     "execution_count": 12,
     "metadata": {},
     "output_type": "execute_result"
    }
   ],
   "source": [
    "y,X2=patsy.dmatrices('Rating ~ Food_N_Beverages + Inflight_Entertainment + Seat_Comfort + Staff_Service + Value_for_Money', data=data, return_type=\"dataframe\")\n",
    "#X=sm.add_constant(data.drop('Rating',axis=1))\n",
    "y=data['Rating']\n",
    "model=sm.OLS(y, X2)\n",
    "fit=model.fit()\n",
    "fit.summary()"
   ]
  },
  {
   "cell_type": "code",
   "execution_count": 13,
   "metadata": {},
   "outputs": [
    {
     "data": {
      "text/html": [
       "<table class=\"simpletable\">\n",
       "<caption>OLS Regression Results</caption>\n",
       "<tr>\n",
       "  <th>Dep. Variable:</th>         <td>Rating</td>      <th>  R-squared:         </th> <td>   0.683</td> \n",
       "</tr>\n",
       "<tr>\n",
       "  <th>Model:</th>                   <td>OLS</td>       <th>  Adj. R-squared:    </th> <td>   0.682</td> \n",
       "</tr>\n",
       "<tr>\n",
       "  <th>Method:</th>             <td>Least Squares</td>  <th>  F-statistic:       </th> <td>   367.7</td> \n",
       "</tr>\n",
       "<tr>\n",
       "  <th>Date:</th>             <td>Sun, 20 Sep 2020</td> <th>  Prob (F-statistic):</th> <td>3.47e-127</td>\n",
       "</tr>\n",
       "<tr>\n",
       "  <th>Time:</th>                 <td>10:32:19</td>     <th>  Log-Likelihood:    </th> <td> -781.69</td> \n",
       "</tr>\n",
       "<tr>\n",
       "  <th>No. Observations:</th>      <td>   515</td>      <th>  AIC:               </th> <td>   1571.</td> \n",
       "</tr>\n",
       "<tr>\n",
       "  <th>Df Residuals:</th>          <td>   511</td>      <th>  BIC:               </th> <td>   1588.</td> \n",
       "</tr>\n",
       "<tr>\n",
       "  <th>Df Model:</th>              <td>     3</td>      <th>                     </th>     <td> </td>    \n",
       "</tr>\n",
       "<tr>\n",
       "  <th>Covariance Type:</th>      <td>nonrobust</td>    <th>                     </th>     <td> </td>    \n",
       "</tr>\n",
       "</table>\n",
       "<table class=\"simpletable\">\n",
       "<tr>\n",
       "          <td></td>            <th>coef</th>     <th>std err</th>      <th>t</th>      <th>P>|t|</th>  <th>[0.025</th>    <th>0.975]</th>  \n",
       "</tr>\n",
       "<tr>\n",
       "  <th>Intercept</th>        <td>   -0.0962</td> <td>    0.166</td> <td>   -0.581</td> <td> 0.562</td> <td>   -0.421</td> <td>    0.229</td>\n",
       "</tr>\n",
       "<tr>\n",
       "  <th>Food_N_Beverages</th> <td>    0.1914</td> <td>    0.052</td> <td>    3.716</td> <td> 0.000</td> <td>    0.090</td> <td>    0.293</td>\n",
       "</tr>\n",
       "<tr>\n",
       "  <th>Seat_Comfort</th>     <td>    0.2581</td> <td>    0.070</td> <td>    3.693</td> <td> 0.000</td> <td>    0.121</td> <td>    0.395</td>\n",
       "</tr>\n",
       "<tr>\n",
       "  <th>Value_for_Money</th>  <td>    1.3499</td> <td>    0.065</td> <td>   20.854</td> <td> 0.000</td> <td>    1.223</td> <td>    1.477</td>\n",
       "</tr>\n",
       "</table>\n",
       "<table class=\"simpletable\">\n",
       "<tr>\n",
       "  <th>Omnibus:</th>       <td>54.073</td> <th>  Durbin-Watson:     </th> <td>   1.903</td>\n",
       "</tr>\n",
       "<tr>\n",
       "  <th>Prob(Omnibus):</th> <td> 0.000</td> <th>  Jarque-Bera (JB):  </th> <td> 168.428</td>\n",
       "</tr>\n",
       "<tr>\n",
       "  <th>Skew:</th>          <td> 0.466</td> <th>  Prob(JB):          </th> <td>2.67e-37</td>\n",
       "</tr>\n",
       "<tr>\n",
       "  <th>Kurtosis:</th>      <td> 5.642</td> <th>  Cond. No.          </th> <td>    17.9</td>\n",
       "</tr>\n",
       "</table><br/><br/>Warnings:<br/>[1] Standard Errors assume that the covariance matrix of the errors is correctly specified."
      ],
      "text/plain": [
       "<class 'statsmodels.iolib.summary.Summary'>\n",
       "\"\"\"\n",
       "                            OLS Regression Results                            \n",
       "==============================================================================\n",
       "Dep. Variable:                 Rating   R-squared:                       0.683\n",
       "Model:                            OLS   Adj. R-squared:                  0.682\n",
       "Method:                 Least Squares   F-statistic:                     367.7\n",
       "Date:                Sun, 20 Sep 2020   Prob (F-statistic):          3.47e-127\n",
       "Time:                        10:32:19   Log-Likelihood:                -781.69\n",
       "No. Observations:                 515   AIC:                             1571.\n",
       "Df Residuals:                     511   BIC:                             1588.\n",
       "Df Model:                           3                                         \n",
       "Covariance Type:            nonrobust                                         \n",
       "====================================================================================\n",
       "                       coef    std err          t      P>|t|      [0.025      0.975]\n",
       "------------------------------------------------------------------------------------\n",
       "Intercept           -0.0962      0.166     -0.581      0.562      -0.421       0.229\n",
       "Food_N_Beverages     0.1914      0.052      3.716      0.000       0.090       0.293\n",
       "Seat_Comfort         0.2581      0.070      3.693      0.000       0.121       0.395\n",
       "Value_for_Money      1.3499      0.065     20.854      0.000       1.223       1.477\n",
       "==============================================================================\n",
       "Omnibus:                       54.073   Durbin-Watson:                   1.903\n",
       "Prob(Omnibus):                  0.000   Jarque-Bera (JB):              168.428\n",
       "Skew:                           0.466   Prob(JB):                     2.67e-37\n",
       "Kurtosis:                       5.642   Cond. No.                         17.9\n",
       "==============================================================================\n",
       "\n",
       "Warnings:\n",
       "[1] Standard Errors assume that the covariance matrix of the errors is correctly specified.\n",
       "\"\"\""
      ]
     },
     "execution_count": 13,
     "metadata": {},
     "output_type": "execute_result"
    }
   ],
   "source": [
    "y,X3=patsy.dmatrices('Rating ~ Food_N_Beverages + Seat_Comfort + Value_for_Money', data=data, return_type=\"dataframe\")\n",
    "#X=sm.add_constant(data.drop('Rating',axis=1))\n",
    "y=data['Rating']\n",
    "model=sm.OLS(y, X3)\n",
    "fit=model.fit()\n",
    "fit.summary()"
   ]
  },
  {
   "cell_type": "code",
   "execution_count": 14,
   "metadata": {},
   "outputs": [
    {
     "data": {
      "text/html": [
       "<table class=\"simpletable\">\n",
       "<caption>OLS Regression Results</caption>\n",
       "<tr>\n",
       "  <th>Dep. Variable:</th>         <td>Rating</td>      <th>  R-squared:         </th> <td>   0.675</td> \n",
       "</tr>\n",
       "<tr>\n",
       "  <th>Model:</th>                   <td>OLS</td>       <th>  Adj. R-squared:    </th> <td>   0.674</td> \n",
       "</tr>\n",
       "<tr>\n",
       "  <th>Method:</th>             <td>Least Squares</td>  <th>  F-statistic:       </th> <td>   531.4</td> \n",
       "</tr>\n",
       "<tr>\n",
       "  <th>Date:</th>             <td>Sun, 20 Sep 2020</td> <th>  Prob (F-statistic):</th> <td>1.20e-125</td>\n",
       "</tr>\n",
       "<tr>\n",
       "  <th>Time:</th>                 <td>10:32:19</td>     <th>  Log-Likelihood:    </th> <td> -788.56</td> \n",
       "</tr>\n",
       "<tr>\n",
       "  <th>No. Observations:</th>      <td>   515</td>      <th>  AIC:               </th> <td>   1583.</td> \n",
       "</tr>\n",
       "<tr>\n",
       "  <th>Df Residuals:</th>          <td>   512</td>      <th>  BIC:               </th> <td>   1596.</td> \n",
       "</tr>\n",
       "<tr>\n",
       "  <th>Df Model:</th>              <td>     2</td>      <th>                     </th>     <td> </td>    \n",
       "</tr>\n",
       "<tr>\n",
       "  <th>Covariance Type:</th>      <td>nonrobust</td>    <th>                     </th>     <td> </td>    \n",
       "</tr>\n",
       "</table>\n",
       "<table class=\"simpletable\">\n",
       "<tr>\n",
       "         <td></td>            <th>coef</th>     <th>std err</th>      <th>t</th>      <th>P>|t|</th>  <th>[0.025</th>    <th>0.975]</th>  \n",
       "</tr>\n",
       "<tr>\n",
       "  <th>Intercept</th>       <td>   -0.0668</td> <td>    0.167</td> <td>   -0.399</td> <td> 0.690</td> <td>   -0.396</td> <td>    0.262</td>\n",
       "</tr>\n",
       "<tr>\n",
       "  <th>Seat_Comfort</th>    <td>    0.3910</td> <td>    0.061</td> <td>    6.429</td> <td> 0.000</td> <td>    0.272</td> <td>    0.511</td>\n",
       "</tr>\n",
       "<tr>\n",
       "  <th>Value_for_Money</th> <td>    1.3762</td> <td>    0.065</td> <td>   21.127</td> <td> 0.000</td> <td>    1.248</td> <td>    1.504</td>\n",
       "</tr>\n",
       "</table>\n",
       "<table class=\"simpletable\">\n",
       "<tr>\n",
       "  <th>Omnibus:</th>       <td>46.447</td> <th>  Durbin-Watson:     </th> <td>   1.899</td>\n",
       "</tr>\n",
       "<tr>\n",
       "  <th>Prob(Omnibus):</th> <td> 0.000</td> <th>  Jarque-Bera (JB):  </th> <td> 188.435</td>\n",
       "</tr>\n",
       "<tr>\n",
       "  <th>Skew:</th>          <td> 0.268</td> <th>  Prob(JB):          </th> <td>1.21e-41</td>\n",
       "</tr>\n",
       "<tr>\n",
       "  <th>Kurtosis:</th>      <td> 5.914</td> <th>  Cond. No.          </th> <td>    15.2</td>\n",
       "</tr>\n",
       "</table><br/><br/>Warnings:<br/>[1] Standard Errors assume that the covariance matrix of the errors is correctly specified."
      ],
      "text/plain": [
       "<class 'statsmodels.iolib.summary.Summary'>\n",
       "\"\"\"\n",
       "                            OLS Regression Results                            \n",
       "==============================================================================\n",
       "Dep. Variable:                 Rating   R-squared:                       0.675\n",
       "Model:                            OLS   Adj. R-squared:                  0.674\n",
       "Method:                 Least Squares   F-statistic:                     531.4\n",
       "Date:                Sun, 20 Sep 2020   Prob (F-statistic):          1.20e-125\n",
       "Time:                        10:32:19   Log-Likelihood:                -788.56\n",
       "No. Observations:                 515   AIC:                             1583.\n",
       "Df Residuals:                     512   BIC:                             1596.\n",
       "Df Model:                           2                                         \n",
       "Covariance Type:            nonrobust                                         \n",
       "===================================================================================\n",
       "                      coef    std err          t      P>|t|      [0.025      0.975]\n",
       "-----------------------------------------------------------------------------------\n",
       "Intercept          -0.0668      0.167     -0.399      0.690      -0.396       0.262\n",
       "Seat_Comfort        0.3910      0.061      6.429      0.000       0.272       0.511\n",
       "Value_for_Money     1.3762      0.065     21.127      0.000       1.248       1.504\n",
       "==============================================================================\n",
       "Omnibus:                       46.447   Durbin-Watson:                   1.899\n",
       "Prob(Omnibus):                  0.000   Jarque-Bera (JB):              188.435\n",
       "Skew:                           0.268   Prob(JB):                     1.21e-41\n",
       "Kurtosis:                       5.914   Cond. No.                         15.2\n",
       "==============================================================================\n",
       "\n",
       "Warnings:\n",
       "[1] Standard Errors assume that the covariance matrix of the errors is correctly specified.\n",
       "\"\"\""
      ]
     },
     "execution_count": 14,
     "metadata": {},
     "output_type": "execute_result"
    }
   ],
   "source": [
    "y,X4=patsy.dmatrices('Rating ~ Seat_Comfort + Value_for_Money', data=data, return_type=\"dataframe\")\n",
    "#X=sm.add_constant(data.drop('Rating',axis=1))\n",
    "y=data['Rating']\n",
    "model=sm.OLS(y, X4)\n",
    "fit=model.fit()\n",
    "fit.summary()"
   ]
  },
  {
   "cell_type": "code",
   "execution_count": 15,
   "metadata": {},
   "outputs": [
    {
     "data": {
      "text/html": [
       "<table class=\"simpletable\">\n",
       "<caption>OLS Regression Results</caption>\n",
       "<tr>\n",
       "  <th>Dep. Variable:</th>         <td>Rating</td>      <th>  R-squared:         </th> <td>   0.680</td> \n",
       "</tr>\n",
       "<tr>\n",
       "  <th>Model:</th>                   <td>OLS</td>       <th>  Adj. R-squared:    </th> <td>   0.677</td> \n",
       "</tr>\n",
       "<tr>\n",
       "  <th>Method:</th>             <td>Least Squares</td>  <th>  F-statistic:       </th> <td>   270.4</td> \n",
       "</tr>\n",
       "<tr>\n",
       "  <th>Date:</th>             <td>Sun, 20 Sep 2020</td> <th>  Prob (F-statistic):</th> <td>1.57e-124</td>\n",
       "</tr>\n",
       "<tr>\n",
       "  <th>Time:</th>                 <td>10:32:19</td>     <th>  Log-Likelihood:    </th> <td> -784.80</td> \n",
       "</tr>\n",
       "<tr>\n",
       "  <th>No. Observations:</th>      <td>   515</td>      <th>  AIC:               </th> <td>   1580.</td> \n",
       "</tr>\n",
       "<tr>\n",
       "  <th>Df Residuals:</th>          <td>   510</td>      <th>  BIC:               </th> <td>   1601.</td> \n",
       "</tr>\n",
       "<tr>\n",
       "  <th>Df Model:</th>              <td>     4</td>      <th>                     </th>     <td> </td>    \n",
       "</tr>\n",
       "<tr>\n",
       "  <th>Covariance Type:</th>      <td>nonrobust</td>    <th>                     </th>     <td> </td>    \n",
       "</tr>\n",
       "</table>\n",
       "<table class=\"simpletable\">\n",
       "<tr>\n",
       "             <td></td>               <th>coef</th>     <th>std err</th>      <th>t</th>      <th>P>|t|</th>  <th>[0.025</th>    <th>0.975]</th>  \n",
       "</tr>\n",
       "<tr>\n",
       "  <th>Intercept</th>              <td>   -0.1060</td> <td>    0.170</td> <td>   -0.625</td> <td> 0.532</td> <td>   -0.439</td> <td>    0.227</td>\n",
       "</tr>\n",
       "<tr>\n",
       "  <th>Inflight_Entertainment</th> <td>   -0.0387</td> <td>    0.043</td> <td>   -0.894</td> <td> 0.372</td> <td>   -0.124</td> <td>    0.046</td>\n",
       "</tr>\n",
       "<tr>\n",
       "  <th>Seat_Comfort</th>           <td>    0.2143</td> <td>    0.094</td> <td>    2.271</td> <td> 0.024</td> <td>    0.029</td> <td>    0.400</td>\n",
       "</tr>\n",
       "<tr>\n",
       "  <th>Staff_Service</th>          <td>    0.2254</td> <td>    0.085</td> <td>    2.663</td> <td> 0.008</td> <td>    0.059</td> <td>    0.392</td>\n",
       "</tr>\n",
       "<tr>\n",
       "  <th>Value_for_Money</th>        <td>    1.3431</td> <td>    0.066</td> <td>   20.376</td> <td> 0.000</td> <td>    1.214</td> <td>    1.473</td>\n",
       "</tr>\n",
       "</table>\n",
       "<table class=\"simpletable\">\n",
       "<tr>\n",
       "  <th>Omnibus:</th>       <td>51.305</td> <th>  Durbin-Watson:     </th> <td>   1.906</td>\n",
       "</tr>\n",
       "<tr>\n",
       "  <th>Prob(Omnibus):</th> <td> 0.000</td> <th>  Jarque-Bera (JB):  </th> <td> 255.926</td>\n",
       "</tr>\n",
       "<tr>\n",
       "  <th>Skew:</th>          <td> 0.227</td> <th>  Prob(JB):          </th> <td>2.67e-56</td>\n",
       "</tr>\n",
       "<tr>\n",
       "  <th>Kurtosis:</th>      <td> 6.423</td> <th>  Cond. No.          </th> <td>    19.9</td>\n",
       "</tr>\n",
       "</table><br/><br/>Warnings:<br/>[1] Standard Errors assume that the covariance matrix of the errors is correctly specified."
      ],
      "text/plain": [
       "<class 'statsmodels.iolib.summary.Summary'>\n",
       "\"\"\"\n",
       "                            OLS Regression Results                            \n",
       "==============================================================================\n",
       "Dep. Variable:                 Rating   R-squared:                       0.680\n",
       "Model:                            OLS   Adj. R-squared:                  0.677\n",
       "Method:                 Least Squares   F-statistic:                     270.4\n",
       "Date:                Sun, 20 Sep 2020   Prob (F-statistic):          1.57e-124\n",
       "Time:                        10:32:19   Log-Likelihood:                -784.80\n",
       "No. Observations:                 515   AIC:                             1580.\n",
       "Df Residuals:                     510   BIC:                             1601.\n",
       "Df Model:                           4                                         \n",
       "Covariance Type:            nonrobust                                         \n",
       "==========================================================================================\n",
       "                             coef    std err          t      P>|t|      [0.025      0.975]\n",
       "------------------------------------------------------------------------------------------\n",
       "Intercept                 -0.1060      0.170     -0.625      0.532      -0.439       0.227\n",
       "Inflight_Entertainment    -0.0387      0.043     -0.894      0.372      -0.124       0.046\n",
       "Seat_Comfort               0.2143      0.094      2.271      0.024       0.029       0.400\n",
       "Staff_Service              0.2254      0.085      2.663      0.008       0.059       0.392\n",
       "Value_for_Money            1.3431      0.066     20.376      0.000       1.214       1.473\n",
       "==============================================================================\n",
       "Omnibus:                       51.305   Durbin-Watson:                   1.906\n",
       "Prob(Omnibus):                  0.000   Jarque-Bera (JB):              255.926\n",
       "Skew:                           0.227   Prob(JB):                     2.67e-56\n",
       "Kurtosis:                       6.423   Cond. No.                         19.9\n",
       "==============================================================================\n",
       "\n",
       "Warnings:\n",
       "[1] Standard Errors assume that the covariance matrix of the errors is correctly specified.\n",
       "\"\"\""
      ]
     },
     "execution_count": 15,
     "metadata": {},
     "output_type": "execute_result"
    }
   ],
   "source": [
    "y,X5=patsy.dmatrices('Rating ~ Inflight_Entertainment + Seat_Comfort + Staff_Service + Value_for_Money', data=data, return_type=\"dataframe\")\n",
    "#X=sm.add_constant(data.drop('Rating',axis=1))\n",
    "y=data['Rating']\n",
    "model=sm.OLS(y, X5)\n",
    "fit=model.fit()\n",
    "fit.summary()"
   ]
  },
  {
   "cell_type": "code",
   "execution_count": 16,
   "metadata": {},
   "outputs": [
    {
     "data": {
      "text/html": [
       "<table class=\"simpletable\">\n",
       "<caption>OLS Regression Results</caption>\n",
       "<tr>\n",
       "  <th>Dep. Variable:</th>         <td>Rating</td>      <th>  R-squared:         </th> <td>   0.649</td> \n",
       "</tr>\n",
       "<tr>\n",
       "  <th>Model:</th>                   <td>OLS</td>       <th>  Adj. R-squared:    </th> <td>   0.648</td> \n",
       "</tr>\n",
       "<tr>\n",
       "  <th>Method:</th>             <td>Least Squares</td>  <th>  F-statistic:       </th> <td>   947.1</td> \n",
       "</tr>\n",
       "<tr>\n",
       "  <th>Date:</th>             <td>Sun, 20 Sep 2020</td> <th>  Prob (F-statistic):</th> <td>1.33e-118</td>\n",
       "</tr>\n",
       "<tr>\n",
       "  <th>Time:</th>                 <td>10:32:19</td>     <th>  Log-Likelihood:    </th> <td> -808.55</td> \n",
       "</tr>\n",
       "<tr>\n",
       "  <th>No. Observations:</th>      <td>   515</td>      <th>  AIC:               </th> <td>   1621.</td> \n",
       "</tr>\n",
       "<tr>\n",
       "  <th>Df Residuals:</th>          <td>   513</td>      <th>  BIC:               </th> <td>   1630.</td> \n",
       "</tr>\n",
       "<tr>\n",
       "  <th>Df Model:</th>              <td>     1</td>      <th>                     </th>     <td> </td>    \n",
       "</tr>\n",
       "<tr>\n",
       "  <th>Covariance Type:</th>      <td>nonrobust</td>    <th>                     </th>     <td> </td>    \n",
       "</tr>\n",
       "</table>\n",
       "<table class=\"simpletable\">\n",
       "<tr>\n",
       "         <td></td>            <th>coef</th>     <th>std err</th>      <th>t</th>      <th>P>|t|</th>  <th>[0.025</th>    <th>0.975]</th>  \n",
       "</tr>\n",
       "<tr>\n",
       "  <th>Intercept</th>       <td>    0.2710</td> <td>    0.165</td> <td>    1.641</td> <td> 0.101</td> <td>   -0.053</td> <td>    0.595</td>\n",
       "</tr>\n",
       "<tr>\n",
       "  <th>Value_for_Money</th> <td>    1.6354</td> <td>    0.053</td> <td>   30.774</td> <td> 0.000</td> <td>    1.531</td> <td>    1.740</td>\n",
       "</tr>\n",
       "</table>\n",
       "<table class=\"simpletable\">\n",
       "<tr>\n",
       "  <th>Omnibus:</th>       <td>34.776</td> <th>  Durbin-Watson:     </th> <td>   1.906</td>\n",
       "</tr>\n",
       "<tr>\n",
       "  <th>Prob(Omnibus):</th> <td> 0.000</td> <th>  Jarque-Bera (JB):  </th> <td> 128.651</td>\n",
       "</tr>\n",
       "<tr>\n",
       "  <th>Skew:</th>          <td>-0.108</td> <th>  Prob(JB):          </th> <td>1.16e-28</td>\n",
       "</tr>\n",
       "<tr>\n",
       "  <th>Kurtosis:</th>      <td> 5.439</td> <th>  Cond. No.          </th> <td>    10.9</td>\n",
       "</tr>\n",
       "</table><br/><br/>Warnings:<br/>[1] Standard Errors assume that the covariance matrix of the errors is correctly specified."
      ],
      "text/plain": [
       "<class 'statsmodels.iolib.summary.Summary'>\n",
       "\"\"\"\n",
       "                            OLS Regression Results                            \n",
       "==============================================================================\n",
       "Dep. Variable:                 Rating   R-squared:                       0.649\n",
       "Model:                            OLS   Adj. R-squared:                  0.648\n",
       "Method:                 Least Squares   F-statistic:                     947.1\n",
       "Date:                Sun, 20 Sep 2020   Prob (F-statistic):          1.33e-118\n",
       "Time:                        10:32:19   Log-Likelihood:                -808.55\n",
       "No. Observations:                 515   AIC:                             1621.\n",
       "Df Residuals:                     513   BIC:                             1630.\n",
       "Df Model:                           1                                         \n",
       "Covariance Type:            nonrobust                                         \n",
       "===================================================================================\n",
       "                      coef    std err          t      P>|t|      [0.025      0.975]\n",
       "-----------------------------------------------------------------------------------\n",
       "Intercept           0.2710      0.165      1.641      0.101      -0.053       0.595\n",
       "Value_for_Money     1.6354      0.053     30.774      0.000       1.531       1.740\n",
       "==============================================================================\n",
       "Omnibus:                       34.776   Durbin-Watson:                   1.906\n",
       "Prob(Omnibus):                  0.000   Jarque-Bera (JB):              128.651\n",
       "Skew:                          -0.108   Prob(JB):                     1.16e-28\n",
       "Kurtosis:                       5.439   Cond. No.                         10.9\n",
       "==============================================================================\n",
       "\n",
       "Warnings:\n",
       "[1] Standard Errors assume that the covariance matrix of the errors is correctly specified.\n",
       "\"\"\""
      ]
     },
     "execution_count": 16,
     "metadata": {},
     "output_type": "execute_result"
    }
   ],
   "source": [
    "y,X6=patsy.dmatrices('Rating ~ Value_for_Money', data=data, return_type=\"dataframe\")\n",
    "#X=sm.add_constant(data.drop('Rating',axis=1))\n",
    "y=data['Rating']\n",
    "model=sm.OLS(y, X6)\n",
    "fit=model.fit()\n",
    "fit.summary()"
   ]
  },
  {
   "cell_type": "code",
   "execution_count": 17,
   "metadata": {},
   "outputs": [
    {
     "data": {
      "text/plain": [
       "0.687460387174689"
      ]
     },
     "execution_count": 17,
     "metadata": {},
     "output_type": "execute_result"
    }
   ],
   "source": [
    "lr=LinearRegression()\n",
    "lr.fit(X,y)\n",
    "lr.score(X,y)"
   ]
  },
  {
   "cell_type": "code",
   "execution_count": 18,
   "metadata": {},
   "outputs": [
    {
     "data": {
      "text/plain": [
       "0.685771376434108"
      ]
     },
     "execution_count": 18,
     "metadata": {},
     "output_type": "execute_result"
    }
   ],
   "source": [
    "lr.fit(X1,y)\n",
    "lr.score(X1,y)"
   ]
  },
  {
   "cell_type": "code",
   "execution_count": 19,
   "metadata": {},
   "outputs": [
    {
     "name": "stdout",
     "output_type": "stream",
     "text": [
      "-0.05194337498706769 [ 0.          0.22539475 -0.08762443  0.26896099  1.33835033]\n"
     ]
    }
   ],
   "source": [
    "print(lr.intercept_,lr.coef_)"
   ]
  },
  {
   "cell_type": "code",
   "execution_count": 20,
   "metadata": {},
   "outputs": [],
   "source": [
    "from sklearn.model_selection import train_test_split\n",
    "from sklearn.linear_model import LinearRegression, Ridge #ordinary linear regression + w/ ridge regularization\n",
    "from sklearn.preprocessing import StandardScaler, PolynomialFeatures\n",
    "import numpy as np\n",
    "\n",
    "\n",
    "# hold out 20% of the data for final testing\n",
    "X_model, X_test, y_model, y_test = train_test_split(X, y, test_size=.2, random_state=10)"
   ]
  },
  {
   "cell_type": "code",
   "execution_count": 21,
   "metadata": {},
   "outputs": [],
   "source": [
    "X_train, X_val, y_train, y_val = train_test_split(X_model, y_model, test_size=.25, random_state=3)"
   ]
  },
  {
   "cell_type": "code",
   "execution_count": 22,
   "metadata": {},
   "outputs": [],
   "source": [
    "#set up the 3 models we're choosing from:\n",
    "\n",
    "lm = LinearRegression()\n",
    "\n",
    "#Feature scaling for train, val, and test so that we can run our ridge model on each\n",
    "scaler = StandardScaler()\n",
    "\n",
    "X_scaled=scaler.fit_transform(X_model.values)\n",
    "X_train_scaled = scaler.fit_transform(X_train.values)\n",
    "X_val_scaled = scaler.transform(X_val.values)\n",
    "X_test_scaled = scaler.transform(X_test.values)\n",
    "\n",
    "lm_reg = Ridge(alpha=1)\n",
    "\n",
    "#Feature transforms for train, val, and test so that we can run our poly model on each\n",
    "poly = PolynomialFeatures(degree=2) \n",
    "\n",
    "X_poly=poly.fit_transform(X_model.values)\n",
    "X_train_poly = poly.fit_transform(X_train.values)\n",
    "X_val_poly = poly.transform(X_val.values)\n",
    "X_test_poly = poly.transform(X_test.values)\n",
    "\n",
    "lm_poly = LinearRegression()"
   ]
  },
  {
   "cell_type": "code",
   "execution_count": 23,
   "metadata": {},
   "outputs": [
    {
     "name": "stdout",
     "output_type": "stream",
     "text": [
      "Linear Regression val R^2: 0.744\n",
      "Ridge Regression val R^2: 0.745\n",
      "Degree 2 polynomial regression val R^2: 0.775\n"
     ]
    }
   ],
   "source": [
    "#validate\n",
    "\n",
    "lm.fit(X_train, y_train)\n",
    "print(f'Linear Regression val R^2: {lm.score(X_val, y_val):.3f}')\n",
    "\n",
    "lm_reg.fit(X_train_scaled, y_train)\n",
    "print(f'Ridge Regression val R^2: {lm_reg.score(X_val_scaled, y_val):.3f}')\n",
    "\n",
    "lm_poly.fit(X_train_poly, y_train)\n",
    "print(f'Degree 2 polynomial regression val R^2: {lm_poly.score(X_val_poly, y_val):.3f}')"
   ]
  },
  {
   "cell_type": "code",
   "execution_count": 24,
   "metadata": {},
   "outputs": [
    {
     "name": "stdout",
     "output_type": "stream",
     "text": [
      "Linear Regression test R^2: 0.521\n"
     ]
    }
   ],
   "source": [
    "lm.fit(X_model,y_model)\n",
    "print(f'Linear Regression test R^2: {lm.score(X_test, y_test):.3f}')"
   ]
  },
  {
   "cell_type": "code",
   "execution_count": 25,
   "metadata": {},
   "outputs": [
    {
     "name": "stdout",
     "output_type": "stream",
     "text": [
      "Ridge Regression test R^2: 0.522\n"
     ]
    }
   ],
   "source": [
    "lm_reg.fit(X_scaled,y_model)\n",
    "print(f'Ridge Regression test R^2: {lm_reg.score(X_test_scaled, y_test):.3f}')"
   ]
  },
  {
   "cell_type": "code",
   "execution_count": 26,
   "metadata": {},
   "outputs": [
    {
     "name": "stdout",
     "output_type": "stream",
     "text": [
      "Degree 2 polynomail Regression test R^2: 0.559\n"
     ]
    }
   ],
   "source": [
    "lm_poly.fit(X_poly,y_model)\n",
    "print(f'Degree 2 polynomail Regression test R^2: {lm_poly.score(X_test_poly, y_test):.3f}')"
   ]
  },
  {
   "cell_type": "code",
   "execution_count": 27,
   "metadata": {},
   "outputs": [
    {
     "name": "stdout",
     "output_type": "stream",
     "text": [
      "Degree 2 polynomial regression val R^2: 0.766\n",
      "Degree 2 polynomail Regression test R^2: 0.554\n"
     ]
    }
   ],
   "source": [
    "# hold out 20% of the data for final testing\n",
    "X_model, X_test, y_model, y_test = train_test_split(X2, y, test_size=.2, random_state=10)\n",
    "\n",
    "X_train, X_val, y_train, y_val = train_test_split(X_model, y_model, test_size=.25, random_state=3)\n",
    "\n",
    "#Feature transforms for train, val, and test so that we can run our poly model on each\n",
    "poly = PolynomialFeatures(degree=2) \n",
    "\n",
    "X_poly=poly.fit_transform(X_model.values)\n",
    "X_train_poly = poly.fit_transform(X_train.values)\n",
    "X_val_poly = poly.transform(X_val.values)\n",
    "X_test_poly = poly.transform(X_test.values)\n",
    "\n",
    "lm_poly = LinearRegression()\n",
    "\n",
    "lm_poly.fit(X_train_poly, y_train)\n",
    "print(f'Degree 2 polynomial regression val R^2: {lm_poly.score(X_val_poly, y_val):.3f}')\n",
    "\n",
    "lm_poly.fit(X_poly,y_model)\n",
    "print(f'Degree 2 polynomail Regression test R^2: {lm_poly.score(X_test_poly, y_test):.3f}')"
   ]
  },
  {
   "cell_type": "code",
   "execution_count": 28,
   "metadata": {},
   "outputs": [
    {
     "name": "stdout",
     "output_type": "stream",
     "text": [
      "Degree 2 polynomial regression val R^2: 0.744\n",
      "Degree 2 polynomail Regression test R^2: 0.523\n"
     ]
    }
   ],
   "source": [
    "# hold out 20% of the data for final testing\n",
    "X_model, X_test, y_model, y_test = train_test_split(X2, y, test_size=.2, random_state=10)\n",
    "\n",
    "X_train, X_val, y_train, y_val = train_test_split(X_model, y_model, test_size=.25, random_state=3)\n",
    "\n",
    "#Feature transforms for train, val, and test so that we can run our poly model on each\n",
    "poly = PolynomialFeatures(degree=1) \n",
    "\n",
    "X_poly=poly.fit_transform(X_model.values)\n",
    "X_train_poly = poly.fit_transform(X_train.values)\n",
    "X_val_poly = poly.transform(X_val.values)\n",
    "X_test_poly = poly.transform(X_test.values)\n",
    "\n",
    "lm_poly = LinearRegression()\n",
    "\n",
    "lm_poly.fit(X_train_poly, y_train)\n",
    "print(f'Degree 2 polynomial regression val R^2: {lm_poly.score(X_val_poly, y_val):.3f}')\n",
    "\n",
    "lm_poly.fit(X_poly,y_model)\n",
    "print(f'Degree 2 polynomail Regression test R^2: {lm_poly.score(X_test_poly, y_test):.3f}')"
   ]
  },
  {
   "cell_type": "code",
   "execution_count": 29,
   "metadata": {},
   "outputs": [
    {
     "name": "stdout",
     "output_type": "stream",
     "text": [
      "Degree 2 polynomial regression val R^2: 0.472\n",
      "Degree 2 polynomail Regression test R^2: 0.435\n"
     ]
    }
   ],
   "source": [
    "# hold out 20% of the data for final testing\n",
    "X_model, X_test, y_model, y_test = train_test_split(X2, y, test_size=.2, random_state=10)\n",
    "\n",
    "X_train, X_val, y_train, y_val = train_test_split(X_model, y_model, test_size=.25, random_state=3)\n",
    "\n",
    "#Feature transforms for train, val, and test so that we can run our poly model on each\n",
    "poly = PolynomialFeatures(degree=3) \n",
    "\n",
    "X_poly=poly.fit_transform(X_model.values)\n",
    "X_train_poly = poly.fit_transform(X_train.values)\n",
    "X_val_poly = poly.transform(X_val.values)\n",
    "X_test_poly = poly.transform(X_test.values)\n",
    "\n",
    "lm_poly = LinearRegression()\n",
    "\n",
    "lm_poly.fit(X_train_poly, y_train)\n",
    "print(f'Degree 2 polynomial regression val R^2: {lm_poly.score(X_val_poly, y_val):.3f}')\n",
    "\n",
    "lm_poly.fit(X_poly,y_model)\n",
    "print(f'Degree 2 polynomail Regression test R^2: {lm_poly.score(X_test_poly, y_test):.3f}')"
   ]
  },
  {
   "cell_type": "code",
   "execution_count": 30,
   "metadata": {},
   "outputs": [],
   "source": [
    "from sklearn.model_selection import KFold\n",
    "\n",
    "X_mode, X_test, y_mode, y_test = train_test_split(X, y, test_size=.2, random_state=10) #hold out 20% of the data for final testing\n",
    "\n",
    "#this helps with the way kf will generate indices below\n",
    "X_cv, y_cv = np.array(X_mode), np.array(y_mode)"
   ]
  },
  {
   "cell_type": "code",
   "execution_count": 31,
   "metadata": {},
   "outputs": [
    {
     "name": "stdout",
     "output_type": "stream",
     "text": [
      "Simple regression scores:  [0.6680815700651824, 0.7647299129439469, 0.63156139305511, 0.7729357798007942, 0.6193365642653536]\n",
      "Ridge scores:  [0.668095421413887, 0.7643916085871506, 0.6314063211273455, 0.7730925349435336, 0.6208635005354295]\n",
      "Polynomial scores:  [-0.47497287242185277, 0.6962021386806079, 0.6772929182896261, 0.007306184754721112, 0.700097477566066] \n",
      "\n",
      "Simple mean cv r^2: 0.691 +- 0.065\n",
      "Ridge mean cv r^2: 0.692 +- 0.065\n",
      "Polynomial mean cv r^2: 0.321 +- 0.478\n"
     ]
    }
   ],
   "source": [
    "#run the CV\n",
    "\n",
    "kf = KFold(n_splits=5, shuffle=True, random_state = 71)\n",
    "cv_lm_r2s, cv_lm_reg_r2s, cv_lm_poly_r2s = [], [] ,[]#collect the validation results for both models\n",
    "\n",
    "for train_ind, val_ind in kf.split(X_cv,y_cv):\n",
    "    \n",
    "    X_train, y_train = X_cv[train_ind], y_cv[train_ind]\n",
    "    X_val, y_val = X_cv[val_ind], y_cv[val_ind] \n",
    "    \n",
    "    #simple linear regression\n",
    "    lm = LinearRegression()\n",
    "    lm_reg = Ridge(alpha=1)\n",
    "\n",
    "    lm.fit(X_train, y_train)\n",
    "    cv_lm_r2s.append(lm.score(X_val, y_val))\n",
    "    \n",
    "    #ridge with feature scaling\n",
    "    scaler = StandardScaler()\n",
    "    X_train_scaled = scaler.fit_transform(X_train)\n",
    "    X_val_scaled = scaler.transform(X_val)\n",
    "    \n",
    "    lm_reg.fit(X_train_scaled, y_train)\n",
    "    cv_lm_reg_r2s.append(lm_reg.score(X_val_scaled, y_val))\n",
    "    \n",
    "    #polynomial linear regression\n",
    "    poly = PolynomialFeatures(degree=2) \n",
    "    lm_poly = LinearRegression()\n",
    "    \n",
    "    X_train_poly = poly.fit_transform(X_train)\n",
    "    X_val_poly = poly.transform(X_val)\n",
    "    \n",
    "    lm_poly.fit(X_train_poly, y_train)\n",
    "    cv_lm_poly_r2s.append(lm_poly.score(X_val_poly, y_val))\n",
    "    \n",
    "print('Simple regression scores: ', cv_lm_r2s)\n",
    "print('Ridge scores: ', cv_lm_reg_r2s)\n",
    "print('Polynomial scores: ', cv_lm_poly_r2s, '\\n')\n",
    "\n",
    "print(f'Simple mean cv r^2: {np.mean(cv_lm_r2s):.3f} +- {np.std(cv_lm_r2s):.3f}')\n",
    "print(f'Ridge mean cv r^2: {np.mean(cv_lm_reg_r2s):.3f} +- {np.std(cv_lm_reg_r2s):.3f}')\n",
    "print(f'Polynomial mean cv r^2: {np.mean(cv_lm_poly_r2s):.3f} +- {np.std(cv_lm_poly_r2s):.3f}')"
   ]
  },
  {
   "cell_type": "code",
   "execution_count": 32,
   "metadata": {},
   "outputs": [
    {
     "name": "stdout",
     "output_type": "stream",
     "text": [
      "Ridge Regression test R^2: 0.551\n"
     ]
    }
   ],
   "source": [
    "scaler = StandardScaler()\n",
    "X_scaled = scaler.fit_transform(X)\n",
    "X_test_scaled = scaler.transform(X_test)\n",
    "\n",
    "lm_reg = Ridge(alpha=1)\n",
    "lm_reg.fit(X_scaled,y)\n",
    "print(f'Ridge Regression test R^2: {lm_reg.score(X_test_scaled, y_test):.3f}')"
   ]
  },
  {
   "cell_type": "code",
   "execution_count": 33,
   "metadata": {},
   "outputs": [
    {
     "name": "stdout",
     "output_type": "stream",
     "text": [
      "Polynomial mean cv r^2: 0.666 +- 0.056\n"
     ]
    }
   ],
   "source": [
    "from sklearn.model_selection import cross_val_score\n",
    "kf = KFold(n_splits=5, shuffle=True, random_state = 71)\n",
    "poly_score=cross_val_score(lm_poly, X, y, cv=kf, scoring='r2')\n",
    "print(f'Polynomial mean cv r^2: {np.mean(poly_score):.3f} +- {np.std(poly_score):.3f}')"
   ]
  },
  {
   "cell_type": "code",
   "execution_count": 34,
   "metadata": {},
   "outputs": [],
   "source": [
    "from sklearn.model_selection import train_test_split\n",
    "from sklearn.linear_model import LinearRegression, Lasso, LassoCV, Ridge, RidgeCV\n",
    "from sklearn.metrics import r2_score"
   ]
  },
  {
   "cell_type": "code",
   "execution_count": 35,
   "metadata": {},
   "outputs": [],
   "source": [
    "X=data.drop('Rating',axis=1)\n",
    "y=data['Rating']"
   ]
  },
  {
   "cell_type": "code",
   "execution_count": 36,
   "metadata": {},
   "outputs": [],
   "source": [
    "X_train_val_lasso, X_test_lasso, y_train_val_lasso, y_test_lasso = train_test_split(X, y, test_size=0.2,random_state=42)\n",
    "X_train_lasso, X_val_lasso, y_train_lasso, y_val_lasso = train_test_split(X_train_val_lasso, y_train_val_lasso, test_size=.25, random_state=43)"
   ]
  },
  {
   "cell_type": "code",
   "execution_count": 61,
   "metadata": {},
   "outputs": [
    {
     "data": {
      "text/plain": [
       "Lasso(alpha=0.1, copy_X=True, fit_intercept=True, max_iter=1000,\n",
       "      normalize=False, positive=False, precompute=False, random_state=None,\n",
       "      selection='cyclic', tol=0.0001, warm_start=False)"
      ]
     },
     "execution_count": 61,
     "metadata": {},
     "output_type": "execute_result"
    }
   ],
   "source": [
    "lasso_model = Lasso(alpha = 0.1) # this is a VERY HIGH regularization strength!, wouldn't usually be used\n",
    "lasso_model.fit(X_train_lasso, y_train_lasso)"
   ]
  },
  {
   "cell_type": "code",
   "execution_count": 38,
   "metadata": {
    "scrolled": true
   },
   "outputs": [
    {
     "data": {
      "text/plain": [
       "[('Food_N_Beverages', 0.2630235065191629),\n",
       " ('Inflight_Entertainment', -0.0),\n",
       " ('Seat_Comfort', 0.23452273314126326),\n",
       " ('Staff_Service', 0.01604182680066015),\n",
       " ('Value_for_Money', 1.2274086227796217),\n",
       " ('Review_Count', -0.00013789084191463243)]"
      ]
     },
     "execution_count": 38,
     "metadata": {},
     "output_type": "execute_result"
    }
   ],
   "source": [
    "list(zip(X.columns, lasso_model.coef_))"
   ]
  },
  {
   "cell_type": "code",
   "execution_count": 59,
   "metadata": {},
   "outputs": [
    {
     "data": {
      "text/plain": [
       "[('Food_N_Beverages', 0.32814822544209415),\n",
       " ('Inflight_Entertainment', -0.10885349638852307),\n",
       " ('Seat_Comfort', 0.3036323334333991),\n",
       " ('Staff_Service', -0.01473105909861477),\n",
       " ('Value_for_Money', 1.3039115527455845),\n",
       " ('Review_Count', -5.8743545848801166e-05)]"
      ]
     },
     "execution_count": 59,
     "metadata": {},
     "output_type": "execute_result"
    }
   ],
   "source": [
    "lr_model_ridge = Ridge(alpha = 0.1)\n",
    "lr_model_ridge.fit(X_train_lasso, y_train_lasso)\n",
    "\n",
    "list(zip(X_train_lasso.columns, lr_model_ridge.coef_))"
   ]
  },
  {
   "cell_type": "code",
   "execution_count": 62,
   "metadata": {
    "scrolled": true
   },
   "outputs": [
    {
     "data": {
      "text/plain": [
       "[<matplotlib.lines.Line2D at 0x1cc84321a88>]"
      ]
     },
     "execution_count": 62,
     "metadata": {},
     "output_type": "execute_result"
    },
    {
     "data": {
      "image/png": "[encoded data removed]",
      "text/plain": [
       "<Figure size 432x288 with 1 Axes>"
      ]
     },
     "metadata": {
      "needs_background": "light"
     },
     "output_type": "display_data"
    }
   ],
   "source": [
    "test_set_pred = lasso_model.predict(X_test_lasso)\n",
    "plt.scatter(test_set_pred, y_test_lasso)\n",
    "plt.plot(np.linspace(0,10,1), np.linspace(0,10,1),linestyle='-')"
   ]
  },
  {
   "cell_type": "code",
   "execution_count": 41,
   "metadata": {},
   "outputs": [
    {
     "data": {
      "text/plain": [
       "0.7066684474685763"
      ]
     },
     "execution_count": 41,
     "metadata": {},
     "output_type": "execute_result"
    }
   ],
   "source": [
    "r2_score(y_test_lasso, test_set_pred)"
   ]
  },
  {
   "cell_type": "code",
   "execution_count": 42,
   "metadata": {},
   "outputs": [
    {
     "data": {
      "text/plain": [
       "0.8208557730079802"
      ]
     },
     "execution_count": 42,
     "metadata": {},
     "output_type": "execute_result"
    }
   ],
   "source": [
    "#Mean Absolute Error (MAE)\n",
    "def mae(y_true, y_pred):\n",
    "    return np.mean(np.abs(y_pred - y_true)) \n",
    "\n",
    "mae(y_test_lasso, test_set_pred)"
   ]
  },
  {
   "cell_type": "code",
   "execution_count": 43,
   "metadata": {},
   "outputs": [
    {
     "name": "stdout",
     "output_type": "stream",
     "text": [
      "[('Food_N_Beverages', 0.21347841485252433), ('Inflight_Entertainment', -0.0), ('Seat_Comfort', 0.19195559132999315), ('Staff_Service', 0.09888986364445848), ('Value_for_Money', 1.1791875575383488), ('Review_Count', -0.0)]\n",
      "0.7189961116094461\n",
      "0.8004176538171737\n"
     ]
    }
   ],
   "source": [
    "std = StandardScaler()\n",
    "std.fit(X_train_val_lasso.values)\n",
    "X_tr = std.transform(X_train_val_lasso.values)\n",
    "X_te = std.transform(X_test_lasso.values)\n",
    "lasso_model = Lasso(alpha = 0.1)\n",
    "lasso_model.fit(X_tr,y_train_val_lasso)\n",
    "print(list(zip(X_train_val_lasso.columns, lasso_model.coef_)))\n",
    "test_set_pred = lasso_model.predict(X_te)\n",
    "print(r2_score(y_test_lasso, test_set_pred))\n",
    "print(mae(y_test_lasso, test_set_pred))"
   ]
  },
  {
   "cell_type": "code",
   "execution_count": 44,
   "metadata": {},
   "outputs": [],
   "source": [
    "from sklearn.pipeline import Pipeline\n",
    "alphalist = 10**(np.linspace(-10,10,200))\n",
    "err_vec_val = np.zeros(len(alphalist))\n",
    "err_vec_train = np.zeros(len(alphalist))\n",
    "\n",
    "for i,curr_alpha in enumerate(alphalist):\n",
    "\n",
    "    # note the use of a new sklearn utility: Pipeline to pack\n",
    "    # multiple modeling steps into one fitting process \n",
    "    steps = [('standardize', StandardScaler()), \n",
    "             ('lasso', Lasso(alpha = curr_alpha))]\n",
    "\n",
    "    pipe = Pipeline(steps)\n",
    "    pipe.fit(X_train_lasso.values, y_train_lasso)\n",
    "    \n",
    "    val_set_pred = pipe.predict(X_val_lasso.values)\n",
    "    err_vec_val[i] = mae(y_val_lasso, val_set_pred)"
   ]
  },
  {
   "cell_type": "code",
   "execution_count": 45,
   "metadata": {},
   "outputs": [
    {
     "data": {
      "text/plain": [
       "(0.925, 1)"
      ]
     },
     "execution_count": 45,
     "metadata": {},
     "output_type": "execute_result"
    },
    {
     "data": {
      "image/png": "[encoded data removed]",
      "text/plain": [
       "<Figure size 432x288 with 1 Axes>"
      ]
     },
     "metadata": {
      "needs_background": "light"
     },
     "output_type": "display_data"
    }
   ],
   "source": [
    "plt.plot(np.log10(alphalist), err_vec_val)\n",
    "plt.xlim(-5,0)\n",
    "plt.ylim(0.925,1)"
   ]
  },
  {
   "cell_type": "code",
   "execution_count": 46,
   "metadata": {},
   "outputs": [
    {
     "data": {
      "text/plain": [
       "0.9291621689519233"
      ]
     },
     "execution_count": 46,
     "metadata": {},
     "output_type": "execute_result"
    }
   ],
   "source": [
    "np.min(err_vec_val)"
   ]
  },
  {
   "cell_type": "code",
   "execution_count": 47,
   "metadata": {},
   "outputs": [
    {
     "data": {
      "text/plain": [
       "0.002171117945694505"
      ]
     },
     "execution_count": 47,
     "metadata": {},
     "output_type": "execute_result"
    }
   ],
   "source": [
    "alphalist[np.argmin(err_vec_val)]"
   ]
  },
  {
   "cell_type": "code",
   "execution_count": 48,
   "metadata": {},
   "outputs": [
    {
     "name": "stdout",
     "output_type": "stream",
     "text": [
      "[('Food_N_Beverages', 0.3083788291537886), ('Inflight_Entertainment', -0.08960553675678443), ('Seat_Comfort', 0.2283151726111488), ('Staff_Service', 0.10162871567004071), ('Value_for_Money', 1.222711129552036), ('Review_Count', -0.04337443918468561)]\n",
      "0.7134551034237712\n",
      "0.7998318473991525\n"
     ]
    }
   ],
   "source": [
    "lasso_model = Lasso(alpha = 0.002)\n",
    "lasso_model.fit(X_tr,y_train_val_lasso)\n",
    "print(list(zip(X_train_val_lasso.columns, lasso_model.coef_)))\n",
    "test_set_pred = lasso_model.predict(X_te)\n",
    "print(r2_score(y_test_lasso, test_set_pred))\n",
    "print(mae(y_test_lasso, test_set_pred))"
   ]
  },
  {
   "cell_type": "code",
   "execution_count": 49,
   "metadata": {},
   "outputs": [
    {
     "data": {
      "text/plain": [
       "LassoCV(alphas=array([1.00000000e-02, 1.04737090e-02, 1.09698580e-02, 1.14895100e-02,\n",
       "       1.20337784e-02, 1.26038293e-02, 1.32008840e-02, 1.38262217e-02,\n",
       "       1.44811823e-02, 1.51671689e-02, 1.58856513e-02, 1.66381689e-02,\n",
       "       1.74263339e-02, 1.82518349e-02, 1.91164408e-02, 2.00220037e-02,\n",
       "       2.09704640e-02, 2.19638537e-02, 2.30043012e-02, 2.40940356e-02,\n",
       "       2.52353917e-02, 2.64308149e-0...\n",
       "       6.01027678e+01, 6.29498899e+01, 6.59318827e+01, 6.90551352e+01,\n",
       "       7.23263390e+01, 7.57525026e+01, 7.93409667e+01, 8.30994195e+01,\n",
       "       8.70359136e+01, 9.11588830e+01, 9.54771611e+01, 1.00000000e+02]),\n",
       "        copy_X=True, cv=5, eps=0.001, fit_intercept=True, max_iter=1000,\n",
       "        n_alphas=100, n_jobs=None, normalize=False, positive=False,\n",
       "        precompute='auto', random_state=None, selection='cyclic', tol=0.0001,\n",
       "        verbose=False)"
      ]
     },
     "execution_count": 49,
     "metadata": {},
     "output_type": "execute_result"
    }
   ],
   "source": [
    "alphavec = 10**np.linspace(-2,2,200)\n",
    "\n",
    "lasso_model = LassoCV(alphas = alphavec, cv=5)\n",
    "lasso_model.fit(X_tr, y_train_val_lasso)"
   ]
  },
  {
   "cell_type": "code",
   "execution_count": 50,
   "metadata": {},
   "outputs": [
    {
     "data": {
      "text/plain": [
       "0.01"
      ]
     },
     "execution_count": 50,
     "metadata": {},
     "output_type": "execute_result"
    }
   ],
   "source": [
    "lasso_model.alpha_"
   ]
  },
  {
   "cell_type": "code",
   "execution_count": 51,
   "metadata": {},
   "outputs": [
    {
     "data": {
      "text/plain": [
       "[('Food_N_Beverages', 0.2983120101696005),\n",
       " ('Inflight_Entertainment', -0.07731788990083842),\n",
       " ('Seat_Comfort', 0.22467845887007667),\n",
       " ('Staff_Service', 0.10180669125084105),\n",
       " ('Value_for_Money', 1.2196751375060504),\n",
       " ('Review_Count', -0.03881317174226859)]"
      ]
     },
     "execution_count": 51,
     "metadata": {},
     "output_type": "execute_result"
    }
   ],
   "source": [
    "list(zip(X_train_val_lasso.columns, lasso_model.coef_))"
   ]
  },
  {
   "cell_type": "code",
   "execution_count": 52,
   "metadata": {},
   "outputs": [],
   "source": [
    "test_set_pred = lasso_model.predict(X_te)"
   ]
  },
  {
   "cell_type": "code",
   "execution_count": 53,
   "metadata": {},
   "outputs": [
    {
     "data": {
      "text/plain": [
       "0.7984623371177525"
      ]
     },
     "execution_count": 53,
     "metadata": {},
     "output_type": "execute_result"
    }
   ],
   "source": [
    "mae(y_test_lasso, test_set_pred)"
   ]
  },
  {
   "cell_type": "code",
   "execution_count": 54,
   "metadata": {},
   "outputs": [
    {
     "data": {
      "text/plain": [
       "0.7144192065724071"
      ]
     },
     "execution_count": 54,
     "metadata": {},
     "output_type": "execute_result"
    }
   ],
   "source": [
    "r2_score(y_test_lasso, test_set_pred)"
   ]
  },
  {
   "cell_type": "code",
   "execution_count": 55,
   "metadata": {},
   "outputs": [
    {
     "name": "stdout",
     "output_type": "stream",
     "text": [
      "Computing regularization path using the LARS ...\n"
     ]
    }
   ],
   "source": [
    "from sklearn.linear_model import lars_path\n",
    "print(\"Computing regularization path using the LARS ...\")\n",
    "alphas, _, coefs = lars_path(X_tr,y_train_val_lasso, method='lasso')\n"
   ]
  },
  {
   "cell_type": "code",
   "execution_count": 56,
   "metadata": {},
   "outputs": [
    {
     "data": {
      "image/png": "[encoded data removed]",
      "text/plain": [
       "<Figure size 720x720 with 1 Axes>"
      ]
     },
     "metadata": {
      "needs_background": "light"
     },
     "output_type": "display_data"
    }
   ],
   "source": [
    "xx = np.sum(np.abs(coefs.T), axis=1)\n",
    "xx /= xx[-1]\n",
    "\n",
    "plt.figure(figsize=(10,10))\n",
    "plt.plot(xx, coefs.T)\n",
    "ymin, ymax = plt.ylim()\n",
    "plt.vlines(xx, ymin, ymax, linestyle='dashed')\n",
    "plt.xlabel('|coef| / max|coef|')\n",
    "plt.ylabel('Coefficients')\n",
    "plt.title('LASSO Path')\n",
    "plt.axis('tight')\n",
    "plt.legend(X_train_val_lasso.columns)\n",
    "plt.show()"
   ]
  },
  {
   "cell_type": "code",
   "execution_count": 57,
   "metadata": {},
   "outputs": [
    {
     "data": {
      "text/plain": [
       "Text(0.5, 1.0, 'Normal Q-Q plot')"
      ]
     },
     "execution_count": 57,
     "metadata": {},
     "output_type": "execute_result"
    },
    {
     "data": {
      "image/png": "[encoded data removed]",
      "text/plain": [
       "<Figure size 1440x360 with 2 Axes>"
      ]
     },
     "metadata": {
      "needs_background": "light"
     },
     "output_type": "display_data"
    }
   ],
   "source": [
    "    import scipy.stats as stats\n",
    "    plt.figure(figsize=(20,5))\n",
    "    \n",
    "    \n",
    "    plt.subplot(1, 2, 1)\n",
    "    res = y_test_lasso - test_set_pred\n",
    "    plt.scatter(test_set_pred, res)\n",
    "    plt.title(\"Residual plot\")\n",
    "    plt.xlabel(\"prediction\")\n",
    "    plt.ylabel(\"residuals\")\n",
    "    \n",
    "    plt.subplot(1, 2, 2)\n",
    "    #Generates a probability plot of sample data against the quantiles of a \n",
    "    # specified theoretical distribution \n",
    "    stats.probplot(res, dist=\"norm\", plot=plt)\n",
    "    plt.title(\"Normal Q-Q plot\")"
   ]
  }
 ],
 "metadata": {
  "kernelspec": {
   "display_name": "Python 3",
   "language": "python",
   "name": "python3"
  },
  "language_info": {
   "codemirror_mode": {
    "name": "ipython",
    "version": 3
   },
   "file_extension": ".py",
   "mimetype": "text/x-python",
   "name": "python",
   "nbconvert_exporter": "python",
   "pygments_lexer": "ipython3",
   "version": "3.7.6"
  }
 },
 "nbformat": 4,
 "nbformat_minor": 4
}
